{
 "nbformat": 4,
 "nbformat_minor": 2,
 "metadata": {
  "language_info": {
   "name": "python",
   "codemirror_mode": {
    "name": "ipython",
    "version": 3
   },
   "version": "3.7.7-final"
  },
  "orig_nbformat": 2,
  "file_extension": ".py",
  "mimetype": "text/x-python",
  "name": "python",
  "npconvert_exporter": "python",
  "pygments_lexer": "ipython3",
  "version": 3,
  "kernelspec": {
   "name": "vis",
   "display_name": "vis"
  }
 },
 "cells": [
  {
   "cell_type": "code",
   "execution_count": 104,
   "metadata": {},
   "outputs": [
    {
     "output_type": "error",
     "ename": "ModuleNotFoundError",
     "evalue": "No module named 'code.utils'; 'code' is not a package",
     "traceback": [
      "\u001b[1;31m---------------------------------------------------------------------------\u001b[0m",
      "\u001b[1;31mModuleNotFoundError\u001b[0m                       Traceback (most recent call last)",
      "\u001b[1;32m<ipython-input-104-b460105cb7f7>\u001b[0m in \u001b[0;36m<module>\u001b[1;34m\u001b[0m\n\u001b[0;32m     10\u001b[0m \u001b[0mget_ipython\u001b[0m\u001b[1;33m(\u001b[0m\u001b[1;33m)\u001b[0m\u001b[1;33m.\u001b[0m\u001b[0mrun_line_magic\u001b[0m\u001b[1;33m(\u001b[0m\u001b[1;34m'matplotlib'\u001b[0m\u001b[1;33m,\u001b[0m \u001b[1;34m'inline'\u001b[0m\u001b[1;33m)\u001b[0m\u001b[1;33m\u001b[0m\u001b[1;33m\u001b[0m\u001b[0m\n\u001b[0;32m     11\u001b[0m \u001b[1;33m\u001b[0m\u001b[0m\n\u001b[1;32m---> 12\u001b[1;33m \u001b[1;32mfrom\u001b[0m \u001b[0mcode\u001b[0m\u001b[1;33m.\u001b[0m\u001b[0mutils\u001b[0m\u001b[1;33m.\u001b[0m\u001b[0mcolorlover_utils\u001b[0m \u001b[1;32mimport\u001b[0m \u001b[0mhex_string_to_rgb\u001b[0m\u001b[1;33m,\u001b[0m \u001b[0mrgb_to_hex_string\u001b[0m\u001b[1;33m\u001b[0m\u001b[1;33m\u001b[0m\u001b[0m\n\u001b[0m\u001b[0;32m     13\u001b[0m \u001b[1;33m\u001b[0m\u001b[0m\n\u001b[0;32m     14\u001b[0m \u001b[1;32mfrom\u001b[0m \u001b[0mplotly\u001b[0m\u001b[1;33m.\u001b[0m\u001b[0moffline\u001b[0m \u001b[1;32mimport\u001b[0m \u001b[0miplot\u001b[0m\u001b[1;33m,\u001b[0m \u001b[0mplot\u001b[0m\u001b[1;33m,\u001b[0m \u001b[0minit_notebook_mode\u001b[0m\u001b[1;33m\u001b[0m\u001b[1;33m\u001b[0m\u001b[0m\n",
      "\u001b[1;31mModuleNotFoundError\u001b[0m: No module named 'code.utils'; 'code' is not a package"
     ]
    }
   ],
   "source": [
    "import pandas as pd \n",
    "import numpy as np \n",
    "\n",
    "import matplotlib\n",
    "import matplotlib.pyplot as plt \n",
    "import seaborn as sns\n",
    "\n",
    "# lets get the cmap colors from matplotlib\n",
    "from matplotlib import cm\n",
    "%matplotlib inline\n",
    "\n",
    "from vis.code.utils.colorlover_utils import hex_string_to_rgb, rgb_to_hex_string\n",
    "\n",
    "from plotly.offline import iplot, plot, init_notebook_mode\n",
    "from plotly.subplots import make_subplots\n",
    "import plotly.graph_objects as go \n",
    "import colorlover as cl \n",
    "init_notebook_mode(connected=True)\n",
    "\n",
    "from IPython.display import HTML"
   ]
  },
  {
   "cell_type": "code",
   "execution_count": 43,
   "metadata": {},
   "outputs": [],
   "source": [
    "\"\"\"\n",
    "setting up some helper functions that will help us move forward. hex to rgb, rgb to hex. This will help access the colors out of matplotlib if we want them in plotly.\n",
    "Because of how rgb and hex colors (cmyk & hsl, too probably) work as a simple ecoding I can use my own helper functions to handle the decoding/encoding\n",
    "\n",
    "The rgb spectrum a color exists as a 3-tuple of data each within the range 0-255\n",
    "(0, 0 , 0) is black and (255,255,255) is white and there 256^3 (16 Million) possible color combinations\n",
    "\n",
    "hex color behaves similarily but each color is represented as a string in python #FFFFFF is equivalent to (255, 255, 255)\n",
    "Because FF is the equivalent to 255 in base 16 (hex)\n",
    "\n",
    "There's also an `alpha` property in both, a 4th set of numbers representing transparency but we can leave that alone for now\n",
    "\n",
    "To convert between the two you simply convert each rgb value to hex, format & return as string\n",
    "To convert back from hex to rgb, you reverse the process.\n",
    "\"\"\"\n",
    "\n",
    "def hex_string_to_rgb(h):\n",
    "    \"\"\"\n",
    "    returns hex string as rgb tuple\n",
    "    \"\"\" \n",
    "    return tuple(int(h.lstrip('#')[i:i+2], 16) for i in (0, 2, 4))\n",
    "\n",
    "\n",
    "def rgb_to_hex_string(r):\n",
    "    \"\"\"\n",
    "    :param r: tuple of valid rgb values\n",
    "    :return: hex string\n",
    "    \"\"\"\n",
    "    conversion = ''.join([str(hex(_r)).lstrip('0x') for _r in r])\n",
    "    return f'#{conversion}'"
   ]
  },
  {
   "cell_type": "code",
   "execution_count": 101,
   "metadata": {},
   "outputs": [],
   "source": [
    "# use the functions above to what's in matplotlib.cm checkout \n",
    "# cm.colors.cnames is a dictionary of named colors and their associated hex value\n",
    "# use colorlover cl to convert the list of rgb's to html and display\n",
    "html_colors = [cl.to_html([hex_string_to_rgb(v)]) for i, v in cm.colors.cnames.items()]\n",
    "# display([i for i, v in cm.colors.cnames.items()]HTML())\n",
    "# list(zip(names, html_colors))"
   ]
  },
  {
   "cell_type": "code",
   "execution_count": 99,
   "metadata": {},
   "outputs": [
    {
     "output_type": "execute_result",
     "data": {
      "text/plain": "18.5"
     },
     "metadata": {},
     "execution_count": 99
    }
   ],
   "source": [
    "cm_named = {name:HTML(cl.to_html([hex_string_to_rgb(color)])) for name, color in cm.colors.cnames.items()}\n",
    "cm_named['aliceblue']\n",
    "\n",
    "# tab out 3 of same length\n",
    "tab_out = '\\t'\n",
    "newline = '\\n'\n",
    "columns = 8 \n",
    "\n",
    "for k, v in cm_name.items():\n"
   ]
  },
  {
   "cell_type": "code",
   "execution_count": 102,
   "metadata": {},
   "outputs": [
    {
     "output_type": "execute_result",
     "data": {
      "text/plain": "['<div style=\"background-color:rgb(240, 248, 255);height:20px;width:20px;margin-bottom:0px;display:inline-block;\"></div>',\n '<div style=\"background-color:rgb(250, 235, 215);height:20px;width:20px;margin-bottom:0px;display:inline-block;\"></div>',\n '<div style=\"background-color:rgb(0, 255, 255);height:20px;width:20px;margin-bottom:0px;display:inline-block;\"></div>',\n '<div style=\"background-color:rgb(127, 255, 212);height:20px;width:20px;margin-bottom:0px;display:inline-block;\"></div>',\n '<div style=\"background-color:rgb(240, 255, 255);height:20px;width:20px;margin-bottom:0px;display:inline-block;\"></div>',\n '<div style=\"background-color:rgb(245, 245, 220);height:20px;width:20px;margin-bottom:0px;display:inline-block;\"></div>',\n '<div style=\"background-color:rgb(255, 228, 196);height:20px;width:20px;margin-bottom:0px;display:inline-block;\"></div>',\n '<div style=\"background-color:rgb(0, 0, 0);height:20px;width:20px;margin-bottom:0px;display:inline-block;\"></div>',\n '<div style=\"background-color:rgb(255, 235, 205);height:20px;width:20px;margin-bottom:0px;display:inline-block;\"></div>',\n '<div style=\"background-color:rgb(0, 0, 255);height:20px;width:20px;margin-bottom:0px;display:inline-block;\"></div>',\n '<div style=\"background-color:rgb(138, 43, 226);height:20px;width:20px;margin-bottom:0px;display:inline-block;\"></div>',\n '<div style=\"background-color:rgb(165, 42, 42);height:20px;width:20px;margin-bottom:0px;display:inline-block;\"></div>',\n '<div style=\"background-color:rgb(222, 184, 135);height:20px;width:20px;margin-bottom:0px;display:inline-block;\"></div>',\n '<div style=\"background-color:rgb(95, 158, 160);height:20px;width:20px;margin-bottom:0px;display:inline-block;\"></div>',\n '<div style=\"background-color:rgb(127, 255, 0);height:20px;width:20px;margin-bottom:0px;display:inline-block;\"></div>',\n '<div style=\"background-color:rgb(210, 105, 30);height:20px;width:20px;margin-bottom:0px;display:inline-block;\"></div>',\n '<div style=\"background-color:rgb(255, 127, 80);height:20px;width:20px;margin-bottom:0px;display:inline-block;\"></div>',\n '<div style=\"background-color:rgb(100, 149, 237);height:20px;width:20px;margin-bottom:0px;display:inline-block;\"></div>',\n '<div style=\"background-color:rgb(255, 248, 220);height:20px;width:20px;margin-bottom:0px;display:inline-block;\"></div>',\n '<div style=\"background-color:rgb(220, 20, 60);height:20px;width:20px;margin-bottom:0px;display:inline-block;\"></div>',\n '<div style=\"background-color:rgb(0, 255, 255);height:20px;width:20px;margin-bottom:0px;display:inline-block;\"></div>',\n '<div style=\"background-color:rgb(0, 0, 139);height:20px;width:20px;margin-bottom:0px;display:inline-block;\"></div>',\n '<div style=\"background-color:rgb(0, 139, 139);height:20px;width:20px;margin-bottom:0px;display:inline-block;\"></div>',\n '<div style=\"background-color:rgb(184, 134, 11);height:20px;width:20px;margin-bottom:0px;display:inline-block;\"></div>',\n '<div style=\"background-color:rgb(169, 169, 169);height:20px;width:20px;margin-bottom:0px;display:inline-block;\"></div>',\n '<div style=\"background-color:rgb(0, 100, 0);height:20px;width:20px;margin-bottom:0px;display:inline-block;\"></div>',\n '<div style=\"background-color:rgb(169, 169, 169);height:20px;width:20px;margin-bottom:0px;display:inline-block;\"></div>',\n '<div style=\"background-color:rgb(189, 183, 107);height:20px;width:20px;margin-bottom:0px;display:inline-block;\"></div>',\n '<div style=\"background-color:rgb(139, 0, 139);height:20px;width:20px;margin-bottom:0px;display:inline-block;\"></div>',\n '<div style=\"background-color:rgb(85, 107, 47);height:20px;width:20px;margin-bottom:0px;display:inline-block;\"></div>',\n '<div style=\"background-color:rgb(255, 140, 0);height:20px;width:20px;margin-bottom:0px;display:inline-block;\"></div>',\n '<div style=\"background-color:rgb(153, 50, 204);height:20px;width:20px;margin-bottom:0px;display:inline-block;\"></div>',\n '<div style=\"background-color:rgb(139, 0, 0);height:20px;width:20px;margin-bottom:0px;display:inline-block;\"></div>',\n '<div style=\"background-color:rgb(233, 150, 122);height:20px;width:20px;margin-bottom:0px;display:inline-block;\"></div>',\n '<div style=\"background-color:rgb(143, 188, 143);height:20px;width:20px;margin-bottom:0px;display:inline-block;\"></div>',\n '<div style=\"background-color:rgb(72, 61, 139);height:20px;width:20px;margin-bottom:0px;display:inline-block;\"></div>',\n '<div style=\"background-color:rgb(47, 79, 79);height:20px;width:20px;margin-bottom:0px;display:inline-block;\"></div>',\n '<div style=\"background-color:rgb(47, 79, 79);height:20px;width:20px;margin-bottom:0px;display:inline-block;\"></div>',\n '<div style=\"background-color:rgb(0, 206, 209);height:20px;width:20px;margin-bottom:0px;display:inline-block;\"></div>',\n '<div style=\"background-color:rgb(148, 0, 211);height:20px;width:20px;margin-bottom:0px;display:inline-block;\"></div>',\n '<div style=\"background-color:rgb(255, 20, 147);height:20px;width:20px;margin-bottom:0px;display:inline-block;\"></div>',\n '<div style=\"background-color:rgb(0, 191, 255);height:20px;width:20px;margin-bottom:0px;display:inline-block;\"></div>',\n '<div style=\"background-color:rgb(105, 105, 105);height:20px;width:20px;margin-bottom:0px;display:inline-block;\"></div>',\n '<div style=\"background-color:rgb(105, 105, 105);height:20px;width:20px;margin-bottom:0px;display:inline-block;\"></div>',\n '<div style=\"background-color:rgb(30, 144, 255);height:20px;width:20px;margin-bottom:0px;display:inline-block;\"></div>',\n '<div style=\"background-color:rgb(178, 34, 34);height:20px;width:20px;margin-bottom:0px;display:inline-block;\"></div>',\n '<div style=\"background-color:rgb(255, 250, 240);height:20px;width:20px;margin-bottom:0px;display:inline-block;\"></div>',\n '<div style=\"background-color:rgb(34, 139, 34);height:20px;width:20px;margin-bottom:0px;display:inline-block;\"></div>',\n '<div style=\"background-color:rgb(255, 0, 255);height:20px;width:20px;margin-bottom:0px;display:inline-block;\"></div>',\n '<div style=\"background-color:rgb(220, 220, 220);height:20px;width:20px;margin-bottom:0px;display:inline-block;\"></div>',\n '<div style=\"background-color:rgb(248, 248, 255);height:20px;width:20px;margin-bottom:0px;display:inline-block;\"></div>',\n '<div style=\"background-color:rgb(255, 215, 0);height:20px;width:20px;margin-bottom:0px;display:inline-block;\"></div>',\n '<div style=\"background-color:rgb(218, 165, 32);height:20px;width:20px;margin-bottom:0px;display:inline-block;\"></div>',\n '<div style=\"background-color:rgb(128, 128, 128);height:20px;width:20px;margin-bottom:0px;display:inline-block;\"></div>',\n '<div style=\"background-color:rgb(0, 128, 0);height:20px;width:20px;margin-bottom:0px;display:inline-block;\"></div>',\n '<div style=\"background-color:rgb(173, 255, 47);height:20px;width:20px;margin-bottom:0px;display:inline-block;\"></div>',\n '<div style=\"background-color:rgb(128, 128, 128);height:20px;width:20px;margin-bottom:0px;display:inline-block;\"></div>',\n '<div style=\"background-color:rgb(240, 255, 240);height:20px;width:20px;margin-bottom:0px;display:inline-block;\"></div>',\n '<div style=\"background-color:rgb(255, 105, 180);height:20px;width:20px;margin-bottom:0px;display:inline-block;\"></div>',\n '<div style=\"background-color:rgb(205, 92, 92);height:20px;width:20px;margin-bottom:0px;display:inline-block;\"></div>',\n '<div style=\"background-color:rgb(75, 0, 130);height:20px;width:20px;margin-bottom:0px;display:inline-block;\"></div>',\n '<div style=\"background-color:rgb(255, 255, 240);height:20px;width:20px;margin-bottom:0px;display:inline-block;\"></div>',\n '<div style=\"background-color:rgb(240, 230, 140);height:20px;width:20px;margin-bottom:0px;display:inline-block;\"></div>',\n '<div style=\"background-color:rgb(230, 230, 250);height:20px;width:20px;margin-bottom:0px;display:inline-block;\"></div>',\n '<div style=\"background-color:rgb(255, 240, 245);height:20px;width:20px;margin-bottom:0px;display:inline-block;\"></div>',\n '<div style=\"background-color:rgb(124, 252, 0);height:20px;width:20px;margin-bottom:0px;display:inline-block;\"></div>',\n '<div style=\"background-color:rgb(255, 250, 205);height:20px;width:20px;margin-bottom:0px;display:inline-block;\"></div>',\n '<div style=\"background-color:rgb(173, 216, 230);height:20px;width:20px;margin-bottom:0px;display:inline-block;\"></div>',\n '<div style=\"background-color:rgb(240, 128, 128);height:20px;width:20px;margin-bottom:0px;display:inline-block;\"></div>',\n '<div style=\"background-color:rgb(224, 255, 255);height:20px;width:20px;margin-bottom:0px;display:inline-block;\"></div>',\n '<div style=\"background-color:rgb(250, 250, 210);height:20px;width:20px;margin-bottom:0px;display:inline-block;\"></div>',\n '<div style=\"background-color:rgb(211, 211, 211);height:20px;width:20px;margin-bottom:0px;display:inline-block;\"></div>',\n '<div style=\"background-color:rgb(144, 238, 144);height:20px;width:20px;margin-bottom:0px;display:inline-block;\"></div>',\n '<div style=\"background-color:rgb(211, 211, 211);height:20px;width:20px;margin-bottom:0px;display:inline-block;\"></div>',\n '<div style=\"background-color:rgb(255, 182, 193);height:20px;width:20px;margin-bottom:0px;display:inline-block;\"></div>',\n '<div style=\"background-color:rgb(255, 160, 122);height:20px;width:20px;margin-bottom:0px;display:inline-block;\"></div>',\n '<div style=\"background-color:rgb(32, 178, 170);height:20px;width:20px;margin-bottom:0px;display:inline-block;\"></div>',\n '<div style=\"background-color:rgb(135, 206, 250);height:20px;width:20px;margin-bottom:0px;display:inline-block;\"></div>',\n '<div style=\"background-color:rgb(119, 136, 153);height:20px;width:20px;margin-bottom:0px;display:inline-block;\"></div>',\n '<div style=\"background-color:rgb(119, 136, 153);height:20px;width:20px;margin-bottom:0px;display:inline-block;\"></div>',\n '<div style=\"background-color:rgb(176, 196, 222);height:20px;width:20px;margin-bottom:0px;display:inline-block;\"></div>',\n '<div style=\"background-color:rgb(255, 255, 224);height:20px;width:20px;margin-bottom:0px;display:inline-block;\"></div>',\n '<div style=\"background-color:rgb(0, 255, 0);height:20px;width:20px;margin-bottom:0px;display:inline-block;\"></div>',\n '<div style=\"background-color:rgb(50, 205, 50);height:20px;width:20px;margin-bottom:0px;display:inline-block;\"></div>',\n '<div style=\"background-color:rgb(250, 240, 230);height:20px;width:20px;margin-bottom:0px;display:inline-block;\"></div>',\n '<div style=\"background-color:rgb(255, 0, 255);height:20px;width:20px;margin-bottom:0px;display:inline-block;\"></div>',\n '<div style=\"background-color:rgb(128, 0, 0);height:20px;width:20px;margin-bottom:0px;display:inline-block;\"></div>',\n '<div style=\"background-color:rgb(102, 205, 170);height:20px;width:20px;margin-bottom:0px;display:inline-block;\"></div>',\n '<div style=\"background-color:rgb(0, 0, 205);height:20px;width:20px;margin-bottom:0px;display:inline-block;\"></div>',\n '<div style=\"background-color:rgb(186, 85, 211);height:20px;width:20px;margin-bottom:0px;display:inline-block;\"></div>',\n '<div style=\"background-color:rgb(147, 112, 219);height:20px;width:20px;margin-bottom:0px;display:inline-block;\"></div>',\n '<div style=\"background-color:rgb(60, 179, 113);height:20px;width:20px;margin-bottom:0px;display:inline-block;\"></div>',\n '<div style=\"background-color:rgb(123, 104, 238);height:20px;width:20px;margin-bottom:0px;display:inline-block;\"></div>',\n '<div style=\"background-color:rgb(0, 250, 154);height:20px;width:20px;margin-bottom:0px;display:inline-block;\"></div>',\n '<div style=\"background-color:rgb(72, 209, 204);height:20px;width:20px;margin-bottom:0px;display:inline-block;\"></div>',\n '<div style=\"background-color:rgb(199, 21, 133);height:20px;width:20px;margin-bottom:0px;display:inline-block;\"></div>',\n '<div style=\"background-color:rgb(25, 25, 112);height:20px;width:20px;margin-bottom:0px;display:inline-block;\"></div>',\n '<div style=\"background-color:rgb(245, 255, 250);height:20px;width:20px;margin-bottom:0px;display:inline-block;\"></div>',\n '<div style=\"background-color:rgb(255, 228, 225);height:20px;width:20px;margin-bottom:0px;display:inline-block;\"></div>',\n '<div style=\"background-color:rgb(255, 228, 181);height:20px;width:20px;margin-bottom:0px;display:inline-block;\"></div>',\n '<div style=\"background-color:rgb(255, 222, 173);height:20px;width:20px;margin-bottom:0px;display:inline-block;\"></div>',\n '<div style=\"background-color:rgb(0, 0, 128);height:20px;width:20px;margin-bottom:0px;display:inline-block;\"></div>',\n '<div style=\"background-color:rgb(253, 245, 230);height:20px;width:20px;margin-bottom:0px;display:inline-block;\"></div>',\n '<div style=\"background-color:rgb(128, 128, 0);height:20px;width:20px;margin-bottom:0px;display:inline-block;\"></div>',\n '<div style=\"background-color:rgb(107, 142, 35);height:20px;width:20px;margin-bottom:0px;display:inline-block;\"></div>',\n '<div style=\"background-color:rgb(255, 165, 0);height:20px;width:20px;margin-bottom:0px;display:inline-block;\"></div>',\n '<div style=\"background-color:rgb(255, 69, 0);height:20px;width:20px;margin-bottom:0px;display:inline-block;\"></div>',\n '<div style=\"background-color:rgb(218, 112, 214);height:20px;width:20px;margin-bottom:0px;display:inline-block;\"></div>',\n '<div style=\"background-color:rgb(238, 232, 170);height:20px;width:20px;margin-bottom:0px;display:inline-block;\"></div>',\n '<div style=\"background-color:rgb(152, 251, 152);height:20px;width:20px;margin-bottom:0px;display:inline-block;\"></div>',\n '<div style=\"background-color:rgb(175, 238, 238);height:20px;width:20px;margin-bottom:0px;display:inline-block;\"></div>',\n '<div style=\"background-color:rgb(219, 112, 147);height:20px;width:20px;margin-bottom:0px;display:inline-block;\"></div>',\n '<div style=\"background-color:rgb(255, 239, 213);height:20px;width:20px;margin-bottom:0px;display:inline-block;\"></div>',\n '<div style=\"background-color:rgb(255, 218, 185);height:20px;width:20px;margin-bottom:0px;display:inline-block;\"></div>',\n '<div style=\"background-color:rgb(205, 133, 63);height:20px;width:20px;margin-bottom:0px;display:inline-block;\"></div>',\n '<div style=\"background-color:rgb(255, 192, 203);height:20px;width:20px;margin-bottom:0px;display:inline-block;\"></div>',\n '<div style=\"background-color:rgb(221, 160, 221);height:20px;width:20px;margin-bottom:0px;display:inline-block;\"></div>',\n '<div style=\"background-color:rgb(176, 224, 230);height:20px;width:20px;margin-bottom:0px;display:inline-block;\"></div>',\n '<div style=\"background-color:rgb(128, 0, 128);height:20px;width:20px;margin-bottom:0px;display:inline-block;\"></div>',\n '<div style=\"background-color:rgb(102, 51, 153);height:20px;width:20px;margin-bottom:0px;display:inline-block;\"></div>',\n '<div style=\"background-color:rgb(255, 0, 0);height:20px;width:20px;margin-bottom:0px;display:inline-block;\"></div>',\n '<div style=\"background-color:rgb(188, 143, 143);height:20px;width:20px;margin-bottom:0px;display:inline-block;\"></div>',\n '<div style=\"background-color:rgb(65, 105, 225);height:20px;width:20px;margin-bottom:0px;display:inline-block;\"></div>',\n '<div style=\"background-color:rgb(139, 69, 19);height:20px;width:20px;margin-bottom:0px;display:inline-block;\"></div>',\n '<div style=\"background-color:rgb(250, 128, 114);height:20px;width:20px;margin-bottom:0px;display:inline-block;\"></div>',\n '<div style=\"background-color:rgb(244, 164, 96);height:20px;width:20px;margin-bottom:0px;display:inline-block;\"></div>',\n '<div style=\"background-color:rgb(46, 139, 87);height:20px;width:20px;margin-bottom:0px;display:inline-block;\"></div>',\n '<div style=\"background-color:rgb(255, 245, 238);height:20px;width:20px;margin-bottom:0px;display:inline-block;\"></div>',\n '<div style=\"background-color:rgb(160, 82, 45);height:20px;width:20px;margin-bottom:0px;display:inline-block;\"></div>',\n '<div style=\"background-color:rgb(192, 192, 192);height:20px;width:20px;margin-bottom:0px;display:inline-block;\"></div>',\n '<div style=\"background-color:rgb(135, 206, 235);height:20px;width:20px;margin-bottom:0px;display:inline-block;\"></div>',\n '<div style=\"background-color:rgb(106, 90, 205);height:20px;width:20px;margin-bottom:0px;display:inline-block;\"></div>',\n '<div style=\"background-color:rgb(112, 128, 144);height:20px;width:20px;margin-bottom:0px;display:inline-block;\"></div>',\n '<div style=\"background-color:rgb(112, 128, 144);height:20px;width:20px;margin-bottom:0px;display:inline-block;\"></div>',\n '<div style=\"background-color:rgb(255, 250, 250);height:20px;width:20px;margin-bottom:0px;display:inline-block;\"></div>',\n '<div style=\"background-color:rgb(0, 255, 127);height:20px;width:20px;margin-bottom:0px;display:inline-block;\"></div>',\n '<div style=\"background-color:rgb(70, 130, 180);height:20px;width:20px;margin-bottom:0px;display:inline-block;\"></div>',\n '<div style=\"background-color:rgb(210, 180, 140);height:20px;width:20px;margin-bottom:0px;display:inline-block;\"></div>',\n '<div style=\"background-color:rgb(0, 128, 128);height:20px;width:20px;margin-bottom:0px;display:inline-block;\"></div>',\n '<div style=\"background-color:rgb(216, 191, 216);height:20px;width:20px;margin-bottom:0px;display:inline-block;\"></div>',\n '<div style=\"background-color:rgb(255, 99, 71);height:20px;width:20px;margin-bottom:0px;display:inline-block;\"></div>',\n '<div style=\"background-color:rgb(64, 224, 208);height:20px;width:20px;margin-bottom:0px;display:inline-block;\"></div>',\n '<div style=\"background-color:rgb(238, 130, 238);height:20px;width:20px;margin-bottom:0px;display:inline-block;\"></div>',\n '<div style=\"background-color:rgb(245, 222, 179);height:20px;width:20px;margin-bottom:0px;display:inline-block;\"></div>',\n '<div style=\"background-color:rgb(255, 255, 255);height:20px;width:20px;margin-bottom:0px;display:inline-block;\"></div>',\n '<div style=\"background-color:rgb(245, 245, 245);height:20px;width:20px;margin-bottom:0px;display:inline-block;\"></div>',\n '<div style=\"background-color:rgb(255, 255, 0);height:20px;width:20px;margin-bottom:0px;display:inline-block;\"></div>',\n '<div style=\"background-color:rgb(154, 205, 50);height:20px;width:20px;margin-bottom:0px;display:inline-block;\"></div>']"
     },
     "metadata": {},
     "execution_count": 102
    }
   ],
   "source": [
    "html_colors"
   ]
  },
  {
   "cell_type": "code",
   "execution_count": null,
   "metadata": {},
   "outputs": [],
   "source": []
  }
 ]
}